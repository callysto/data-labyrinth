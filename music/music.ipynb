{
 "cells": [
  {
   "cell_type": "markdown",
   "metadata": {},
   "source": [
    "![Callysto.ca Banner](https://github.com/callysto/curriculum-notebooks/blob/master/callysto-notebook-banner-top.jpg?raw=true)"
   ]
  },
  {
   "cell_type": "markdown",
   "metadata": {},
   "source": [
    "# Music Labyrinth\n",
    "\n",
    "Welcome to the music labyrinth. Type your key between the `''` in the code cell below (e.g. `key = 'abc'`) and then click the `▶Run` button to get started."
   ]
  },
  {
   "cell_type": "code",
   "execution_count": null,
   "metadata": {},
   "outputs": [],
   "source": [
    "key = ''\n",
    "\n",
    "import requests\n",
    "from IPython import get_ipython\n",
    "def check(query):\n",
    "    r = requests.get('https://script.google.com/macros/s/AKfycbyPwfPxwbuBroZQQyXdwlVWlOwkRJy9G7V9EE1Vud_6g3KLb6Nz57G0SFvAg1EGUwZD/exec?room=Music&query='+str(query))\n",
    "    response = r.json()\n",
    "    get_ipython().run_cell_magic('markdown', '', response['markdown'])\n",
    "    get_ipython().set_next_input(response['code'])\n",
    "import pandas as pd\n",
    "import plotly.express as px\n",
    "check(key)"
   ]
  }
 ],
 "metadata": {
  "kernelspec": {
   "display_name": "Python 3",
   "language": "python",
   "name": "python3"
  },
  "language_info": {
   "codemirror_mode": {
    "name": "ipython",
    "version": 3
   },
   "file_extension": ".py",
   "mimetype": "text/x-python",
   "name": "python",
   "nbconvert_exporter": "python",
   "pygments_lexer": "ipython3",
   "version": "3.10.1"
  },
  "orig_nbformat": 4
 },
 "nbformat": 4,
 "nbformat_minor": 2
}
