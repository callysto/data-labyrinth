{
 "cells": [
  {
   "cell_type": "markdown",
   "metadata": {},
   "source": [
    "![Callysto.ca Banner](https://github.com/callysto/curriculum-notebooks/blob/master/callysto-notebook-banner-top.jpg?raw=true)\n",
    "\n",
    "<a href=\"https://hub.callysto.ca/jupyter/hub/user-redirect/git-pull?repo=https%3A%2F%2Fgithub.com%2Fcallysto%2Fdata-labyrinth&branch=main&subPath=CALM/CALM.ipynb&depth=1\" target=\"_parent\"><img src=\"https://raw.githubusercontent.com/callysto/curriculum-notebooks/master/open-in-callysto-button.svg?sanitize=true\" width=\"123\" height=\"24\" alt=\"Open in Callysto\"/></a>"
   ]
  },
  {
   "cell_type": "markdown",
   "metadata": {},
   "source": [
    "# CALM Labyrinth\n",
    "\n",
    "Welcome to the [Callysto](https://callysto.ca) CALM Labyrinth. This uses a Jupyter notebook and [CALM](https://www.alberta.ca/education-guide-career-and-life-management-calm)-related data to navigate through data science challenges."
   ]
  },
  {
   "cell_type": "code",
   "execution_count": null,
   "metadata": {},
   "outputs": [],
   "source": [
    "key = ''\n",
    "\n",
    "import requests\n",
    "from IPython import get_ipython\n",
    "def check(query):\n",
    "    try:\n",
    "        r = requests.get('https://script.google.com/macros/s/AKfycbzlKK-NaCbHgvsjZT7cyycEiRWEW1sjfmIERlKORKy7eoAMMvRyXFUOpP-lvgLpLCQA/exec?room=CALM&query='+str(query))\n",
    "        response = r.json()\n",
    "        get_ipython().run_cell_magic('markdown', '', response['markdown'])\n",
    "        get_ipython().set_next_input(response['code'])\n",
    "    except:\n",
    "        print('Make sure you have entered the key correctly.')\n",
    "        get_ipython().set_next_input(\"key = ''\\ncheck(key)\")\n",
    "import pandas as pd\n",
    "import plotly.express as px\n",
    "check(key)"
   ]
  }
 ],
 "metadata": {
  "kernelspec": {
   "display_name": "Python 3",
   "language": "python",
   "name": "python3"
  },
  "language_info": {
   "codemirror_mode": {
    "name": "ipython",
    "version": 3
   },
   "file_extension": ".py",
   "mimetype": "text/x-python",
   "name": "python",
   "nbconvert_exporter": "python",
   "pygments_lexer": "ipython3",
   "version": "3.10.4"
  }
 },
 "nbformat": 4,
 "nbformat_minor": 2
}
