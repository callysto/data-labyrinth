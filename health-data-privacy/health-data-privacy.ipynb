{
 "cells": [
  {
   "cell_type": "markdown",
   "metadata": {},
   "source": [
    "![Callysto.ca Banner](https://github.com/callysto/curriculum-notebooks/blob/master/callysto-notebook-banner-top.jpg?raw=true)\n",
    "\n",
    "<a href=\"https://hub.callysto.ca/jupyter/hub/user-redirect/git-pull?repo=https%3A%2F%2Fgithub.com%2Fcallysto%2Fdata-labyrinth&branch=main&subPath=health-data-privacy/health-data-privacy.ipynb&depth=1\" target=\"_parent\"><img src=\"https://raw.githubusercontent.com/callysto/curriculum-notebooks/master/open-in-callysto-button.svg?sanitize=true\" width=\"123\" height=\"24\" alt=\"Open in Callysto\"/></a>"
   ]
  },
  {
   "cell_type": "markdown",
   "metadata": {},
   "source": [
    "# Health Data Privacy\n",
    "\n",
    "As our world becomes increasingly digitized and interconnected, our reliance on data has also increased. Devices connected to the internet get stranger every day, a fairly recent trend made possible by advances in computing, the internet, and data-storage technology. Technology is becoming such an integrated part of our lives that it is easy to forget how much information is collected about us, and who has access to it. This is especially true for health data, which should be private and can have negative effects if it falls into the wrong hands.\n",
    "\n",
    "## Introduction\n",
    "\n",
    "You're spending time with your friend one day, waiting for your ride to arrive. Your friend is on their phone, mindlessly scrolling through social media, when you happen to see a photo pop up in their feed:\n",
    "\n",
    "![friends sitting around the campfire with a guitar and a golden retriever](images/campfire-friends-dogs-guitar.png)\n",
    "\n",
    "The photo catches your eye! You're not familiar with the person who posted the picture (and your friend says it's just an acquaintance of theirs), but you do recognize an old friend of yours in the dark red plaid shirt on the left, Sarah. It's been a long time since you've seen her, and you'd love to get back in contact with her. The only information you know about her is:\n",
    "\n",
    "* She's since married and changed her last name\n",
    "* Her husband is the man in the blue plaid with the guitar\n",
    "* Both your friend and her husband are under 30 years old\n",
    "* The golden retriever on the left in the photo is their dog\n",
    "* The location the photo was tagged in is a popular campground near Calgary\n",
    "\n",
    "Using your data science skills, along with the information you just acquired and the resources you have access to, can you connect the data to find a way to get in contact with your old friend?\n",
    "\n",
    "Type your key between the `''` in the code cell below (e.g. `key = 'abc'`) and then click the `▶Run` button to get started."
   ]
  },
  {
   "cell_type": "code",
   "execution_count": null,
   "metadata": {},
   "outputs": [],
   "source": [
    "key = 'data privacy'\n",
    "\n",
    "import requests\n",
    "from IPython import get_ipython\n",
    "def check(query):\n",
    "    try:\n",
    "        r = requests.get('https://script.google.com/macros/s/AKfycbyNwWgQZCm7MR0HmNAat5nqnbWxc8YviiwZfiVXW4NNQLdPRjVHgLP3DSVKUmyvY3OE/exec?room=Health+Data+Privacy&query='+str(query))\n",
    "        response = r.json()\n",
    "        get_ipython().run_cell_magic('markdown', '', response['markdown'])\n",
    "        get_ipython().set_next_input(response['code'])\n",
    "    except:\n",
    "        print('Make sure you have entered the key correctly.')\n",
    "        get_ipython().set_next_input(\"key = ''\\ncheck(key)\")\n",
    "import pandas as pd\n",
    "import plotly.express as px\n",
    "check(key)"
   ]
  }
 ],
 "metadata": {
  "kernelspec": {
   "display_name": "Python 3",
   "language": "python",
   "name": "python3"
  },
  "language_info": {
   "codemirror_mode": {
    "name": "ipython",
    "version": 3
   },
   "file_extension": ".py",
   "mimetype": "text/x-python",
   "name": "python",
   "nbconvert_exporter": "python",
   "pygments_lexer": "ipython3",
   "version": "3.10.1"
  },
  "orig_nbformat": 4
 },
 "nbformat": 4,
 "nbformat_minor": 2
}
